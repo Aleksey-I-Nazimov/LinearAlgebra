{
 "cells": [
  {
   "cell_type": "markdown",
   "id": "2e692358",
   "metadata": {},
   "source": [
    "1. Найти с помощью NumPy SVD для матрицы\n",
    "\n",
    "$$\\begin{pmatrix}\n",
    "1 & 2 & 0\\\\ \n",
    "0 & 0 & 5\\\\ \n",
    "3 & -4 & 2\\\\ \n",
    "1 & 6 & 5\\\\ \n",
    "0 & 1 & 0\n",
    "\\end{pmatrix}.$$\n"
   ]
  },
  {
   "cell_type": "code",
   "execution_count": 14,
   "id": "6f938b1e",
   "metadata": {},
   "outputs": [
    {
     "name": "stdout",
     "output_type": "stream",
     "text": [
      "  --> Original matrix \n",
      "[[ 1  2  0]\n",
      " [ 0  0  5]\n",
      " [ 3 -4  2]\n",
      " [ 1  6  5]\n",
      " [ 0  1  0]]\n",
      "  --> SVD result:\n",
      "U=\n",
      "[[ 0.17056501  0.15680918 -0.53077508 -0.79905375 -0.16158397]\n",
      " [ 0.39287016 -0.52933945  0.6134793  -0.43375771  0.03082495]\n",
      " [-0.14366152 -0.82449256 -0.52379105  0.14049848  0.07400343]\n",
      " [ 0.88843702  0.06074346 -0.24655277  0.37755832 -0.06042632]\n",
      " [ 0.08125046  0.10831843 -0.08231425 -0.10524851  0.98173958]]\n",
      "D=\n",
      "[8.82486885 6.14060608 2.53271528]\n",
      "Vt=\n",
      "[[ 0.07116451  0.71702467  0.69340553]\n",
      " [-0.36737824  0.66514082 -0.65009301]\n",
      " [-0.92734505 -0.20847855  0.31075368]]\n",
      "\n",
      "      > Scale matrix:\n",
      "[[8.82486885 0.         0.        ]\n",
      " [0.         6.14060608 0.        ]\n",
      " [0.         0.         2.53271528]\n",
      " [0.         0.         0.        ]\n",
      " [0.         0.         0.        ]]\n",
      "\n",
      "  --> Rescued:\n",
      "A=\n",
      "[[ 1.00000000e+00  2.00000000e+00  5.69432293e-16]\n",
      " [ 1.03164637e-15 -2.16649373e-15  5.00000000e+00]\n",
      " [ 3.00000000e+00 -4.00000000e+00  2.00000000e+00]\n",
      " [ 1.00000000e+00  6.00000000e+00  5.00000000e+00]\n",
      " [-1.05854814e-16  1.00000000e+00  5.52894695e-17]]\n"
     ]
    }
   ],
   "source": [
    "\n",
    "# see additional lecture: https://ee227c.github.io/code/lecture5.html\n",
    "# https://ee227c.github.io/code/lecture4.html\n",
    "# https://ee227c.github.io/code/lecture6.html\n",
    "# \n",
    "\n",
    "\n",
    "import numpy as np\n",
    "\n",
    "A = np.array([[1,2,0],[0,0,5],[3,-4,2],[1,6,5],[0,1,0]]);\n",
    "\n",
    "print(\"  --> Original matrix \\n{}\".format(A))\n",
    "\n",
    "# SVD transform:------------------------------------------------------\n",
    "U,d,Vt = np.linalg.svd(A)\n",
    "print (\"  --> SVD result:\\nU=\\n{}\\nD=\\n{}\\nVt=\\n{}\\n\".format(U,d,Vt))\n",
    "\n",
    "# Creating full diagonal SCALE matrix:--------------------------------\n",
    "D = np.zeros_like(A, dtype=float)\n",
    "D[np.diag_indices(min(A.shape))] = d\n",
    "print (\"      > Scale matrix:\\n{}\\n\".format(D))\n",
    "\n",
    "# Checking results:--------------------------------------------------\n",
    "A2 = U.dot(D).dot(Vt)\n",
    "print (\"  --> Rescued:\\nA=\\n{}\".format(A2));\n",
    "\n",
    "\n"
   ]
  },
  {
   "cell_type": "markdown",
   "id": "ada30d0c",
   "metadata": {},
   "source": [
    "2. Для матрицы из предыдущего задания найти:\n",
    "\n",
    "    а) евклидову норму;\n",
    "    \n",
    "    б) норму Фробениуса."
   ]
  },
  {
   "cell_type": "code",
   "execution_count": 16,
   "id": "23cd01ed",
   "metadata": {},
   "outputs": [
    {
     "name": "stdout",
     "output_type": "stream",
     "text": [
      "Eucleadian norm=8.824868854820442\n"
     ]
    }
   ],
   "source": [
    "print (\"Eucleadian norm={}\".format(D[0][0]))"
   ]
  },
  {
   "cell_type": "code",
   "execution_count": 18,
   "id": "d6586cf0",
   "metadata": {},
   "outputs": [
    {
     "name": "stdout",
     "output_type": "stream",
     "text": [
      "Fronebius norm=11.045361017187261\n"
     ]
    }
   ],
   "source": [
    "# see this: https://numpy.org/doc/stable/reference/generated/numpy.linalg.norm.html\n",
    "\n",
    "fronebius_norm = np.linalg.norm(A,'fro')\n",
    "print (\"Fronebius norm={}\".format(fronebius_norm))"
   ]
  },
  {
   "cell_type": "code",
   "execution_count": null,
   "id": "ff4a55c9",
   "metadata": {},
   "outputs": [],
   "source": []
  }
 ],
 "metadata": {
  "kernelspec": {
   "display_name": "Python 3 (ipykernel)",
   "language": "python",
   "name": "python3"
  },
  "language_info": {
   "codemirror_mode": {
    "name": "ipython",
    "version": 3
   },
   "file_extension": ".py",
   "mimetype": "text/x-python",
   "name": "python",
   "nbconvert_exporter": "python",
   "pygments_lexer": "ipython3",
   "version": "3.9.12"
  }
 },
 "nbformat": 4,
 "nbformat_minor": 5
}
